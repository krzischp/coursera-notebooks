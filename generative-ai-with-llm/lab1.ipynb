{
 "cells": [
  {
   "cell_type": "code",
   "execution_count": 1,
   "id": "aad1d9f6",
   "metadata": {},
   "outputs": [
    {
     "name": "stdout",
     "output_type": "stream",
     "text": [
      "Requirement already satisfied: pip in /Users/pierre.krzisch/dev/perso/projects/monica/monica-ui/monica-ui-venv/lib/python3.10/site-packages (23.1.2)\n",
      "Note: you may need to restart the kernel to use updated packages.\n",
      "Note: you may need to restart the kernel to use updated packages.\n",
      "Note: you may need to restart the kernel to use updated packages.\n"
     ]
    }
   ],
   "source": [
    "%pip install --upgrade pip\n",
    "%pip install --disable-pip-version-check \\\n",
    "    torch==1.13.1 \\\n",
    "    torchdata==0.5.1 --quiet\n",
    "\n",
    "%pip install \\\n",
    "    transformers==4.27.2 \\\n",
    "    datasets==2.11.0 --quiet"
   ]
  },
  {
   "cell_type": "code",
   "execution_count": 4,
   "id": "00d839ca",
   "metadata": {},
   "outputs": [],
   "source": [
    "from datasets import load_dataset\n",
    "from transformers import AutoModelForSeq2SeqLM\n",
    "from transformers import AutoTokenizer\n",
    "from transformers import GenerationConfig"
   ]
  },
  {
   "cell_type": "code",
   "execution_count": 23,
   "id": "910b9de2",
   "metadata": {},
   "outputs": [
    {
     "name": "stdout",
     "output_type": "stream",
     "text": [
      "system\n",
      "You will get instructions for code to write.\n",
      "You will write a very long answer. Make sure that every detail of the architecture is, in the end, implemented as code.\n",
      "Make sure that every detail of the architecture is, in the end, implemented as code.\n",
      "\n",
      "Think step by step and reason yourself to the right decisions to make sure we get it right.\n",
      "You will first lay out the names of the core classes, functions, methods that will be necessary, as well as a quick comment on their purpose.\n",
      "\n",
      "Then you will output the content of each file including ALL code.\n",
      "Each file must strictly follow a markdown code block format, where the following tokens must be replaced such that\n",
      "FILENAME is the lowercase file name including the file extension,\n",
      "LANG is the markup code block language for the code's language, and CODE is the code:\n",
      "\n",
      "FILENAME\n",
      "```LANG\n",
      "CODE\n",
      "```\n",
      "\n",
      "You will start with the \"entrypoint\" file, then go to the ones that are imported by that file, and so on.\n",
      "Please note that the code should be fully functional. No placeholders.\n",
      "\n",
      "Follow a language and framework appropriate best practice file naming convention.\n",
      "Make sure that files contain all imports, types etc. Make sure that code in different files are compatible with each other.\n",
      "Ensure to implement all code, if you are unsure, write a plausible implementation.\n",
      "Include module dependency or package manager dependency definition file.\n",
      "Before you finish, double check that all parts of the architecture is present in the files.\n",
      "\n",
      "Useful to know:\n",
      "You almost always put different classes in different files.\n",
      "For Python, you always create an appropriate requirements.txt file.\n",
      "For NodeJS, you always create an appropriate package.json file.\n",
      "You always add a comment briefly describing the purpose of the function definition.\n",
      "You try to add comments explaining very complex bits of logic.\n",
      "You always follow the best practices for the requested languages in terms of describing the code written as a defined\n",
      "package/project.\n",
      "\n",
      "\n",
      "Python toolbelt preferences:\n",
      "- pytest\n",
      "- dataclasses\n",
      "\n"
     ]
    }
   ],
   "source": [
    "# ll = [{'role': 'system', 'content': 'You will get instructions for code to write.\\nYou will write a very long answer. Make sure that every detail of the architecture is, in the end, implemented as code.\\nMake sure that every detail of the architecture is, in the end, implemented as code.\\n\\nThink step by step and reason yourself to the right decisions to make sure we get it right.\\nYou will first lay out the names of the core classes, functions, methods that will be necessary, as well as a quick comment on their purpose.\\n\\nThen you will output the content of each file including ALL code.\\nEach file must strictly follow a markdown code block format, where the following tokens must be replaced such that\\nFILENAME is the lowercase file name including the file extension,\\nLANG is the markup code block language for the code\\'s language, and CODE is the code:\\n\\nFILENAME\\n```LANG\\nCODE\\n```\\n\\nYou will start with the \"entrypoint\" file, then go to the ones that are imported by that file, and so on.\\nPlease note that the code should be fully functional. No placeholders.\\n\\nFollow a language and framework appropriate best practice file naming convention.\\nMake sure that files contain all imports, types etc. Make sure that code in different files are compatible with each other.\\nEnsure to implement all code, if you are unsure, write a plausible implementation.\\nInclude module dependency or package manager dependency definition file.\\nBefore you finish, double check that all parts of the architecture is present in the files.\\n\\nUseful to know:\\nYou almost always put different classes in different files.\\nFor Python, you always create an appropriate requirements.txt file.\\nFor NodeJS, you always create an appropriate package.json file.\\nYou always add a comment briefly describing the purpose of the function definition.\\nYou try to add comments explaining very complex bits of logic.\\nYou always follow the best practices for the requested languages in terms of describing the code written as a defined\\npackage/project.\\n\\n\\nPython toolbelt preferences:\\n- pytest\\n- dataclasses\\n'}, {'role': 'user', 'content': 'This is my CSV file:\\n```\\nyear,period of the year,metric,Total Group,Zone AMS,Zone EMENA,Zone AOA,Nespresso,Nestlé Health Science,Other Businesses\\n2020,Three-month,Real internal growth (RIG),4.70,7.90,8.20,-4.60,2.70,18.70,6.80\\n2020,Three-month,Pricing,-0.40,-0.50,-1.10,0.00,1.10,-0.20,-2.70\\n2020,Three-month,Organic growth,4.30,7.40,7.10,-4.60,3.80,18.50,4.10\\n```\\n\\nWhat can we observe from the data?'}, {'role': 'assistant', 'content': 'Areas that need clarification:\\n1. What does \"Total Group\" refer to?\\n2. What do the different zones (AMS, EMENA, AOA) represent?\\n3. What is the unit of measurement for the \"metric\" column?\\n4. What does \"Real internal growth (RIG)\" mean?\\n5. What is the time frame for the \"Three-month\" period?\\n6. What do the values in the \"Nespresso\", \"Nestlé Health Science\", and \"Other Businesses\" columns represent?'}, {'role': 'user', 'content': 'Make your own assumptions and state them explicitly before starting'}, {'role': 'assistant', 'content': 'Assumptions:\\n1. \"Total Group\" refers to the overall performance of the company.\\n2. The different zones (AMS, EMENA, AOA) represent geographical regions or divisions within the company.\\n3. The unit of measurement for the \"metric\" column is percentage (%).\\n4. \"Real internal growth (RIG)\" refers to the growth of the company excluding the impact of external factors such as acquisitions or divestments.\\n5. The \"Three-month\" period refers to a quarterly time frame.\\n6. The values in the \"Nespresso\", \"Nestlé Health Science\", and \"Other Businesses\" columns represent the growth or performance of specific business units or product categories within the company.'}]\n",
    "ll = [{'role': 'system', 'content': 'You will get instructions for code to write.\\nYou will write a very long answer. Make sure that every detail of the architecture is, in the end, implemented as code.\\nMake sure that every detail of the architecture is, in the end, implemented as code.\\n\\nThink step by step and reason yourself to the right decisions to make sure we get it right.\\nYou will first lay out the names of the core classes, functions, methods that will be necessary, as well as a quick comment on their purpose.\\n\\nThen you will output the content of each file including ALL code.\\nEach file must strictly follow a markdown code block format, where the following tokens must be replaced such that\\nFILENAME is the lowercase file name including the file extension,\\nLANG is the markup code block language for the code\\'s language, and CODE is the code:\\n\\nFILENAME\\n```LANG\\nCODE\\n```\\n\\nYou will start with the \"entrypoint\" file, then go to the ones that are imported by that file, and so on.\\nPlease note that the code should be fully functional. No placeholders.\\n\\nFollow a language and framework appropriate best practice file naming convention.\\nMake sure that files contain all imports, types etc. Make sure that code in different files are compatible with each other.\\nEnsure to implement all code, if you are unsure, write a plausible implementation.\\nInclude module dependency or package manager dependency definition file.\\nBefore you finish, double check that all parts of the architecture is present in the files.\\n\\nUseful to know:\\nYou almost always put different classes in different files.\\nFor Python, you always create an appropriate requirements.txt file.\\nFor NodeJS, you always create an appropriate package.json file.\\nYou always add a comment briefly describing the purpose of the function definition.\\nYou try to add comments explaining very complex bits of logic.\\nYou always follow the best practices for the requested languages in terms of describing the code written as a defined\\npackage/project.\\n\\n\\nPython toolbelt preferences:\\n- pytest\\n- dataclasses\\n'}, {'role': 'user', 'content': 'This is my CSV file:\\n```\\nyear,period of the year,metric,Total Group,Zone AMS,Zone EMENA,Zone AOA,Nespresso,Nestlé Health Science,Other Businesses\\n2020,Three-month,Real internal growth (RIG),4.70,7.90,8.20,-4.60,2.70,18.70,6.80\\n2020,Three-month,Pricing,-0.40,-0.50,-1.10,0.00,1.10,-0.20,-2.70\\n2020,Three-month,Organic growth,4.30,7.40,7.10,-4.60,3.80,18.50,4.10\\n```\\n\\nWhat can we observe from the data?'}, {'role': 'assistant', 'content': 'Areas that need clarification:\\n1. What does \"Total Group\" refer to?\\n2. What do the different zones (AMS, EMENA, AOA) represent?\\n3. What is the unit of measurement for the \"metric\" column?\\n4. What does \"Real internal growth (RIG)\" mean?\\n5. What is the time frame for the \"Three-month\" period?\\n6. What do the values in the \"Nespresso\", \"Nestlé Health Science\", and \"Other Businesses\" columns represent?'}, {'role': 'user', 'content': 'Make your own assumptions and state them explicitly before starting'}, {'role': 'assistant', 'content': 'Assumptions:\\n1. \"Total Group\" refers to the overall performance of the company.\\n2. The different zones (AMS, EMENA, AOA) represent geographical regions or divisions within the company.\\n3. The unit of measurement for the \"metric\" column is percentage (%).\\n4. \"Real internal growth (RIG)\" refers to the growth of the company excluding the impact of external factors such as acquisitions or divestments.\\n5. The \"Three-month\" period refers to a quarterly time frame.\\n6. The values in the \"Nespresso\", \"Nestlé Health Science\", and \"Other Businesses\" columns represent the growth or performance of specific business units or product categories within the company.'}, {'role': 'user', 'content': 'Please now remember the steps:\\n\\nThink step by step and reason yourself to the right decisions to make sure we get it right.\\nFirst lay out the names of the core classes, functions, methods that will be necessary, As well as a quick comment on their purpose.\\n\\nThen you will output the content of each file including ALL code.\\nEach file must strictly follow a markdown code block format, where the following tokens must be replaced such that\\nFILENAME is the lowercase file name including the file extension,\\nLANG is the markup code block language for the code\\'s language, and CODE is the code:\\n\\nFILENAME\\n```LANG\\nCODE\\n```\\n\\nPlease note that the code should be fully functional. No placeholders.\\n\\nYou will start with the \"entrypoint\" file, then go to the ones that are imported by that file, and so on.\\nFollow a language and framework appropriate best practice file naming convention.\\nMake sure that files contain all imports, types etc. The code should be fully functional. Make sure that code in different files are compatible with each other.\\nBefore you finish, double check that all parts of the architecture is present in the files.\\n'}, {'role': 'assistant', 'content': \"Based on the requirements, here are the core classes, functions, and methods that will be necessary:\\n\\n1. CSVParser: A class responsible for parsing the CSV file and extracting the data.\\n   - parse_csv_file(file_path: str) -> List[Dict[str, Union[str, float]]]: Parses the CSV file and returns a list of dictionaries representing each row of data.\\n\\n2. DataAnalyzer: A class responsible for analyzing the data extracted from the CSV file.\\n   - calculate_average_growth(data: List[Dict[str, Union[str, float]]]) -> float: Calculates the average growth across all periods.\\n   - calculate_zone_growth(data: List[Dict[str, Union[str, float]]], zone: str) -> float: Calculates the growth for a specific zone.\\n   - calculate_metric_growth(data: List[Dict[str, Union[str, float]]], metric: str) -> float: Calculates the growth for a specific metric.\\n\\n3. Main: The entry point of the program.\\n   - main(): Reads the CSV file, parses the data, and performs analysis on the data.\\n\\nNow, let's proceed with implementing the code.\"}]\n",
    "\n",
    "print(ll[0]['role'])\n",
    "print(ll[0]['content'])"
   ]
  },
  {
   "cell_type": "code",
   "execution_count": 17,
   "id": "4f9c4278",
   "metadata": {},
   "outputs": [
    {
     "name": "stdout",
     "output_type": "stream",
     "text": [
      "user\n",
      "This is my CSV file:\n",
      "```\n",
      "year,period of the year,metric,Total Group,Zone AMS,Zone EMENA,Zone AOA,Nespresso,Nestlé Health Science,Other Businesses\n",
      "2020,Three-month,Real internal growth (RIG),4.70,7.90,8.20,-4.60,2.70,18.70,6.80\n",
      "2020,Three-month,Pricing,-0.40,-0.50,-1.10,0.00,1.10,-0.20,-2.70\n",
      "2020,Three-month,Organic growth,4.30,7.40,7.10,-4.60,3.80,18.50,4.10\n",
      "```\n",
      "\n",
      "What can we observe from the data?\n"
     ]
    }
   ],
   "source": [
    "print(ll[1]['role'])\n",
    "print(ll[1]['content'])"
   ]
  },
  {
   "cell_type": "code",
   "execution_count": 18,
   "id": "09d94d15",
   "metadata": {},
   "outputs": [
    {
     "name": "stdout",
     "output_type": "stream",
     "text": [
      "assistant\n",
      "Areas that need clarification:\n",
      "1. What does \"Total Group\" refer to?\n",
      "2. What do the different zones (AMS, EMENA, AOA) represent?\n",
      "3. What is the unit of measurement for the \"metric\" column?\n",
      "4. What does \"Real internal growth (RIG)\" mean?\n",
      "5. What is the time frame for the \"Three-month\" period?\n",
      "6. What do the values in the \"Nespresso\", \"Nestlé Health Science\", and \"Other Businesses\" columns represent?\n"
     ]
    }
   ],
   "source": [
    "print(ll[2]['role'])\n",
    "print(ll[2]['content'])"
   ]
  },
  {
   "cell_type": "code",
   "execution_count": 19,
   "id": "7f2ee31a",
   "metadata": {},
   "outputs": [
    {
     "name": "stdout",
     "output_type": "stream",
     "text": [
      "user\n",
      "Make your own assumptions and state them explicitly before starting\n"
     ]
    }
   ],
   "source": [
    "print(ll[3]['role'])\n",
    "print(ll[3]['content'])"
   ]
  },
  {
   "cell_type": "code",
   "execution_count": 20,
   "id": "8fb79693",
   "metadata": {},
   "outputs": [
    {
     "name": "stdout",
     "output_type": "stream",
     "text": [
      "assistant\n",
      "Assumptions:\n",
      "1. \"Total Group\" refers to the overall performance of the company.\n",
      "2. The different zones (AMS, EMENA, AOA) represent geographical regions or divisions within the company.\n",
      "3. The unit of measurement for the \"metric\" column is percentage (%).\n",
      "4. \"Real internal growth (RIG)\" refers to the growth of the company excluding the impact of external factors such as acquisitions or divestments.\n",
      "5. The \"Three-month\" period refers to a quarterly time frame.\n",
      "6. The values in the \"Nespresso\", \"Nestlé Health Science\", and \"Other Businesses\" columns represent the growth or performance of specific business units or product categories within the company.\n"
     ]
    }
   ],
   "source": [
    "print(ll[4]['role'])\n",
    "print(ll[4]['content'])"
   ]
  },
  {
   "cell_type": "code",
   "execution_count": 21,
   "id": "b9d5eafd",
   "metadata": {},
   "outputs": [
    {
     "name": "stdout",
     "output_type": "stream",
     "text": [
      "user\n",
      "Please now remember the steps:\n",
      "\n",
      "Think step by step and reason yourself to the right decisions to make sure we get it right.\n",
      "First lay out the names of the core classes, functions, methods that will be necessary, As well as a quick comment on their purpose.\n",
      "\n",
      "Then you will output the content of each file including ALL code.\n",
      "Each file must strictly follow a markdown code block format, where the following tokens must be replaced such that\n",
      "FILENAME is the lowercase file name including the file extension,\n",
      "LANG is the markup code block language for the code's language, and CODE is the code:\n",
      "\n",
      "FILENAME\n",
      "```LANG\n",
      "CODE\n",
      "```\n",
      "\n",
      "Please note that the code should be fully functional. No placeholders.\n",
      "\n",
      "You will start with the \"entrypoint\" file, then go to the ones that are imported by that file, and so on.\n",
      "Follow a language and framework appropriate best practice file naming convention.\n",
      "Make sure that files contain all imports, types etc. The code should be fully functional. Make sure that code in different files are compatible with each other.\n",
      "Before you finish, double check that all parts of the architecture is present in the files.\n",
      "\n"
     ]
    }
   ],
   "source": [
    "# AFTER ai.next\n",
    "print(ll[5]['role'])\n",
    "print(ll[5]['content'])"
   ]
  },
  {
   "cell_type": "code",
   "execution_count": 22,
   "id": "3b3ae9e7",
   "metadata": {},
   "outputs": [
    {
     "name": "stdout",
     "output_type": "stream",
     "text": [
      "assistant\n",
      "Based on the requirements, here are the core classes, functions, and methods that will be necessary:\n",
      "\n",
      "1. CSVParser: A class responsible for parsing the CSV file and extracting the data.\n",
      "   - parse_csv_file(file_path: str) -> List[Dict[str, Union[str, float]]]: Parses the CSV file and returns a list of dictionaries representing each row of data.\n",
      "\n",
      "2. DataAnalyzer: A class responsible for analyzing the data extracted from the CSV file.\n",
      "   - calculate_average_growth(data: List[Dict[str, Union[str, float]]]) -> float: Calculates the average growth across all periods.\n",
      "   - calculate_zone_growth(data: List[Dict[str, Union[str, float]]], zone: str) -> float: Calculates the growth for a specific zone.\n",
      "   - calculate_metric_growth(data: List[Dict[str, Union[str, float]]], metric: str) -> float: Calculates the growth for a specific metric.\n",
      "\n",
      "3. Main: The entry point of the program.\n",
      "   - main(): Reads the CSV file, parses the data, and performs analysis on the data.\n",
      "\n",
      "Now, let's proceed with implementing the code.\n"
     ]
    }
   ],
   "source": [
    "# AFTER ai.next\n",
    "print(ll[6]['role'])\n",
    "print(ll[6]['content'])"
   ]
  },
  {
   "cell_type": "markdown",
   "id": "4a8ecad5",
   "metadata": {},
   "source": [
    "# Data"
   ]
  },
  {
   "cell_type": "code",
   "execution_count": null,
   "id": "8c5b33be",
   "metadata": {},
   "outputs": [],
   "source": [
    "huggingface_dataset_name = \"knkarthick/dialogsum\"\n",
    "\n",
    "load_dataset(huggingface_dataset_name)"
   ]
  },
  {
   "cell_type": "markdown",
   "id": "15305300",
   "metadata": {},
   "source": [
    "# Model"
   ]
  },
  {
   "cell_type": "markdown",
   "id": "b0783d38",
   "metadata": {},
   "source": [
    "pre-trained [**LLM FLAN-T5**](https://huggingface.co/docs/transformers/model_doc/flan-t5) from Hugging Face"
   ]
  },
  {
   "cell_type": "code",
   "execution_count": 6,
   "id": "ad59daad",
   "metadata": {},
   "outputs": [
    {
     "data": {
      "application/vnd.jupyter.widget-view+json": {
       "model_id": "253f132e92f04e64aa833a9b92f99d1a",
       "version_major": 2,
       "version_minor": 0
      },
      "text/plain": [
       "Downloading (…)lve/main/config.json:   0%|          | 0.00/1.40k [00:00<?, ?B/s]"
      ]
     },
     "metadata": {},
     "output_type": "display_data"
    },
    {
     "data": {
      "application/vnd.jupyter.widget-view+json": {
       "model_id": "05dd6744c7f344a9aaee303b612e41ac",
       "version_major": 2,
       "version_minor": 0
      },
      "text/plain": [
       "Downloading pytorch_model.bin:   0%|          | 0.00/990M [00:00<?, ?B/s]"
      ]
     },
     "metadata": {},
     "output_type": "display_data"
    },
    {
     "data": {
      "application/vnd.jupyter.widget-view+json": {
       "model_id": "2011f1bc23bb467e8f8071331548c17c",
       "version_major": 2,
       "version_minor": 0
      },
      "text/plain": [
       "Downloading (…)neration_config.json:   0%|          | 0.00/147 [00:00<?, ?B/s]"
      ]
     },
     "metadata": {},
     "output_type": "display_data"
    }
   ],
   "source": [
    "model_name = \"google/flan-t5-base\"\n",
    "model = AutoModelForSeq2SeqLM.from_pretrained(model_name)"
   ]
  },
  {
   "cell_type": "code",
   "execution_count": 7,
   "id": "51538856",
   "metadata": {},
   "outputs": [
    {
     "data": {
      "application/vnd.jupyter.widget-view+json": {
       "model_id": "cd83ea50dd2a4f47a83c66627dd56ea3",
       "version_major": 2,
       "version_minor": 0
      },
      "text/plain": [
       "Downloading (…)okenizer_config.json:   0%|          | 0.00/2.54k [00:00<?, ?B/s]"
      ]
     },
     "metadata": {},
     "output_type": "display_data"
    },
    {
     "data": {
      "application/vnd.jupyter.widget-view+json": {
       "model_id": "0049478e1ca74dca8d195bf7bd8228c3",
       "version_major": 2,
       "version_minor": 0
      },
      "text/plain": [
       "Downloading spiece.model:   0%|          | 0.00/792k [00:00<?, ?B/s]"
      ]
     },
     "metadata": {},
     "output_type": "display_data"
    },
    {
     "data": {
      "application/vnd.jupyter.widget-view+json": {
       "model_id": "d6b6536e91d042b399161e85f19cdbb4",
       "version_major": 2,
       "version_minor": 0
      },
      "text/plain": [
       "Downloading (…)/main/tokenizer.json:   0%|          | 0.00/2.42M [00:00<?, ?B/s]"
      ]
     },
     "metadata": {},
     "output_type": "display_data"
    },
    {
     "data": {
      "application/vnd.jupyter.widget-view+json": {
       "model_id": "938c36803ada43af9fcfa4217bbd5825",
       "version_major": 2,
       "version_minor": 0
      },
      "text/plain": [
       "Downloading (…)cial_tokens_map.json:   0%|          | 0.00/2.20k [00:00<?, ?B/s]"
      ]
     },
     "metadata": {},
     "output_type": "display_data"
    }
   ],
   "source": [
    "# Tokenizer:\n",
    "# CONVERT RAW TEXT INTO OUR VECTOR SPACE THAT CAN THEN BE PROCESSED BY OUR MODEL\n",
    "tokenizer = AutoTokenizer.from_pretrained(model_name)"
   ]
  },
  {
   "cell_type": "code",
   "execution_count": null,
   "id": "4ae073d0",
   "metadata": {},
   "outputs": [],
   "source": []
  }
 ],
 "metadata": {
  "kernelspec": {
   "display_name": "Python 3 (ipykernel)",
   "language": "python",
   "name": "python3"
  },
  "language_info": {
   "codemirror_mode": {
    "name": "ipython",
    "version": 3
   },
   "file_extension": ".py",
   "mimetype": "text/x-python",
   "name": "python",
   "nbconvert_exporter": "python",
   "pygments_lexer": "ipython3",
   "version": "3.10.10"
  }
 },
 "nbformat": 4,
 "nbformat_minor": 5
}
